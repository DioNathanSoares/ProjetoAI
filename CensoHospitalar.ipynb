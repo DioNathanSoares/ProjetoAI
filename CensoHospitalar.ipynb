{
  "nbformat": 4,
  "nbformat_minor": 0,
  "metadata": {
    "colab": {
      "provenance": [],
      "toc_visible": true,
      "authorship_tag": "ABX9TyOPiJNW7WrmngZvvwUhSCwZ",
      "include_colab_link": true
    },
    "kernelspec": {
      "name": "python3",
      "display_name": "Python 3"
    },
    "language_info": {
      "name": "python"
    }
  },
  "cells": [
    {
      "cell_type": "markdown",
      "metadata": {
        "id": "view-in-github",
        "colab_type": "text"
      },
      "source": [
        "<a href=\"https://colab.research.google.com/github/DioNathanSoares/ProjetoAI/blob/main/CensoHospitalar.ipynb\" target=\"_parent\"><img src=\"https://colab.research.google.com/assets/colab-badge.svg\" alt=\"Open In Colab\"/></a>"
      ]
    },
    {
      "cell_type": "markdown",
      "source": [
        "Iniciando o projeto de Imersão IA Alura✌"
      ],
      "metadata": {
        "id": "3jsEwG0vRsZy"
      }
    },
    {
      "cell_type": "markdown",
      "source": [
        "Garantindo que a SDK esteja instalada..."
      ],
      "metadata": {
        "id": "KuNqZx7kS-h0"
      }
    },
    {
      "cell_type": "code",
      "source": [
        "#instalando se forma silenciosa a generativeai\n",
        "!pip install -q -U google-generativeai"
      ],
      "metadata": {
        "id": "U0KVb1SSTDM4"
      },
      "execution_count": null,
      "outputs": []
    },
    {
      "cell_type": "markdown",
      "source": [
        "\n",
        "\n",
        "Preparação inicial do ambiente e autenticação.\n"
      ],
      "metadata": {
        "id": "pFG01ZRMTF92"
      }
    },
    {
      "cell_type": "code",
      "execution_count": null,
      "metadata": {
        "id": "6bYo8huCMkUL"
      },
      "outputs": [],
      "source": [
        "#iniciando o processo de importação das bibliotecas necessárias ao projeto.\n",
        "import google.generativeai as genai\n",
        "from google.colab import widgets\n",
        "from IPython.display import display\n",
        "from IPython.display import Markdown\n",
        "import matplotlib.pyplot as plt\n",
        "import numpy as np\n",
        "import pandas as pd\n",
        "import textwrap\n",
        "\n",
        "#ocultando a API Key\n",
        "from google.colab import userdata\n",
        "\n",
        "#declarando a variável 'CHAVE_SECRETA' e o método para obter.\n",
        "api_key = userdata.get('CHAVE_SECRETA')\n",
        "\n",
        "#Solicitando que a autenticação ocorra através da api_key, que está devidamente guardada no cofre de segredos da conta.\n",
        "genai.configure(api_key=api_key)"
      ]
    },
    {
      "cell_type": "markdown",
      "source": [
        "Definindo as ***configurações***."
      ],
      "metadata": {
        "id": "qiwfDf3KUGWx"
      }
    },
    {
      "cell_type": "code",
      "source": [
        "#a variável 'generation_config' receberá esses parâmetros de comportamento do modelo em relação as respostas que ele vai gerar, por exemplo.\n",
        "generation_config = {\n",
        "    'candidate_count': 1,\n",
        "    'temperature': 0.9,\n",
        "    'top_k': 40,\n",
        "    'top_p': 0.9\n",
        "}"
      ],
      "metadata": {
        "id": "MS7xKBJwUOc9"
      },
      "execution_count": null,
      "outputs": []
    },
    {
      "cell_type": "markdown",
      "source": [
        "Estabelecendo o nível de ***segurança***"
      ],
      "metadata": {
        "id": "L53sIZkJWpqi"
      }
    },
    {
      "cell_type": "code",
      "source": [
        "#Devido a característica do projeto, o bloqueio será pensado para pegar de média a alta chance de conteúdo perigoso.\n",
        "safety_settings = {\n",
        "  \"HARASSMENT\": \"BLOCK_LOW_AND_ABOVE\",\n",
        "  \"HATE\": \"BLOCK_LOW_AND_ABOVE\",\n",
        "  \"SEXUAL\": \"BLOCK_LOW_AND_ABOVE\",\n",
        "  \"DANGEROUS\": \"BLOCK_LOW_AND_ABOVE\"\n",
        "}"
      ],
      "metadata": {
        "id": "B7I31BglW53D"
      },
      "execution_count": null,
      "outputs": []
    },
    {
      "cell_type": "markdown",
      "source": [
        "Escolhendo o modelo de conteúdo..."
      ],
      "metadata": {
        "id": "CEhHvhSeVF9u"
      }
    },
    {
      "cell_type": "code",
      "source": [
        "#primeiro listar os modelos de conteúdo disponíveis.\n",
        "for mcont in genai.list_models():\n",
        "  if 'generateContent' in mcont.supported_generation_methods:\n",
        "    print(mcont.name)"
      ],
      "metadata": {
        "colab": {
          "base_uri": "https://localhost:8080/",
          "height": 138
        },
        "id": "lErOzxovWJZ_",
        "outputId": "7279afbe-c471-4564-8040-ca896d720c94"
      },
      "execution_count": null,
      "outputs": [
        {
          "output_type": "stream",
          "name": "stdout",
          "text": [
            "models/gemini-1.0-pro\n",
            "models/gemini-1.0-pro-001\n",
            "models/gemini-1.0-pro-latest\n",
            "models/gemini-1.0-pro-vision-latest\n",
            "models/gemini-1.5-pro-latest\n",
            "models/gemini-pro\n",
            "models/gemini-pro-vision\n"
          ]
        }
      ]
    },
    {
      "cell_type": "code",
      "source": [
        "#depois a escolha pelo modelo de conteúdo mais estável.\n",
        "mcont = genai.GenerativeModel(model_name=\"gemini-1.0-pro\",\n",
        "                              generation_config=generation_config,\n",
        "                              safety_settings=safety_settings)"
      ],
      "metadata": {
        "id": "9QNvQUOyVOb8"
      },
      "execution_count": null,
      "outputs": []
    },
    {
      "cell_type": "markdown",
      "source": [
        "Preenchimento do censo hospitalar personalizado para médico e para enfermeiro"
      ],
      "metadata": {
        "id": "c9mLN3v0gteE"
      }
    },
    {
      "cell_type": "code",
      "source": [
        "#Criando a funcionalidade para definir a coleta de dados por médico ou por enfermeiro\n",
        "def valida_entrada(prompt, tipo_dado):\n",
        "  \"\"\"\n",
        "  Função para validar a entrada do usuário.\n",
        "\n",
        "  Argumentos:\n",
        "    prompt: Texto a ser exibido antes da entrada do usuário.\n",
        "    tipo_dado: Tipo de dado esperado (int ou str).\n",
        "\n",
        "  Retorno:\n",
        "    Valor digitado pelo usuário após a validação.\n",
        "  \"\"\"\n",
        "  while True:\n",
        "    try:\n",
        "      valor = input(prompt)\n",
        "      if tipo_dado == int:\n",
        "        valor = int(valor)\n",
        "      elif tipo_dado == str:\n",
        "        valor = valor.strip()\n",
        "      else:\n",
        "        raise ValueError(\"Tipo de dado inválido.\")\n",
        "      return valor\n",
        "    except ValueError:\n",
        "      print(\"Valor inválido. Digite novamente.\")\n",
        "\n",
        "#Pergunta a profissão do usuário\n",
        "profissao = valida_entrada(\"Qual sua profissão (médico ou enfermeiro)? \", str).lower()\n",
        "\n",
        "while profissao not in [\"médico\", \"enfermeiro\"]:\n",
        "  profissao = valida_entrada(\"Profissão inválida. Digite novamente (médico ou enfermeiro): \", str).lower()\n",
        "\n",
        "#Formulário para médicos\n",
        "if profissao == \"médico\":\n",
        "  dados_medico = {\n",
        "      \"total_leitos_uti\": None,\n",
        "      \"leitos_uti_ocupados\": None,\n",
        "      \"total_leitos_clinica_medica\": None,\n",
        "      \"leitos_clinica_medica_ocupados\": None,\n",
        "      \"total_leitos_pediatria\": None,\n",
        "      \"leitos_pediatria_ocupados\": None,\n",
        "      \"total_leitos_ginecologia\": None,\n",
        "      \"leitos_ginecologia_ocupados\": None,\n",
        "      \"total_pacientes_internados\": None\n",
        "  }\n",
        "\n",
        "  for campo in dados_medico:\n",
        "    while True:\n",
        "      valor = valida_entrada(f\"Digite o {campo}: \", int)\n",
        "      dados_medico[campo] = valor\n",
        "      if valor is not None:\n",
        "        break\n",
        "      print(\"Atenção! O campo está sem preenchimento.\")\n",
        "\n",
        "  #Exibe os dados coletados\n",
        "  print(\"\\nDados coletados:\")\n",
        "  for campo, valor in dados_medico.items():\n",
        "    print(f\"{campo}: {valor}\")\n",
        "\n",
        "#Formulário para enfermeiros\n",
        "elif profissao == \"enfermeiro\":\n",
        "  dados_enfermeiro = {\n",
        "      \"total_leitos_enfermaria\": None,\n",
        "      \"leitos_enfermaria_ocupados\": None,\n",
        "      \"total_classificacoes_risco\": None,\n",
        "      \"total_pacientes_transferidos\": None\n",
        "  }\n",
        "\n",
        "  for campo in dados_enfermeiro:\n",
        "    while True:\n",
        "      valor = valida_entrada(f\"Digite o {campo}: \", int)\n",
        "      dados_enfermeiro[campo] = valor\n",
        "      if valor is not None:\n",
        "        break\n",
        "      print(\"Atenção! O campo está sem preenchimento.\")\n",
        "\n",
        "  #Exibe os dados coletados\n",
        "  print(\"\\nDados coletados:\")\n",
        "  for campo, valor in dados_enfermeiro.items():\n",
        "    print(f\"{campo}: {valor}\")\n",
        "\n",
        "print(\"\\nCenso hospitalar completo!\")"
      ],
      "metadata": {
        "colab": {
          "base_uri": "https://localhost:8080/"
        },
        "id": "vFXlVSVvgbrN",
        "outputId": "48865888-c598-4cab-ce0e-101ea3a1ba43"
      },
      "execution_count": null,
      "outputs": [
        {
          "output_type": "stream",
          "name": "stdout",
          "text": [
            "Qual sua profissão (médico ou enfermeiro)? enfermeiro\n",
            "Digite o total_leitos_enfermaria: 20\n",
            "Digite o leitos_enfermaria_ocupados: 10\n",
            "Digite o total_classificacoes_risco: 20\n",
            "Digite o total_pacientes_transferidos: 5\n",
            "\n",
            "Dados coletados:\n",
            "total_leitos_enfermaria: 20\n",
            "leitos_enfermaria_ocupados: 10\n",
            "total_classificacoes_risco: 20\n",
            "total_pacientes_transferidos: 5\n",
            "\n",
            "Censo hospitalar completo!\n"
          ]
        }
      ]
    },
    {
      "cell_type": "code",
      "source": [
        "#Considerando os dados coletados\n",
        "tipos_leito = [\"UTI\", \"Clínica Médica\", \"Pediatria\", \"Ginecologia\"]\n",
        "leitos_ocupados_medico = np.array([dados_medico[\"leitos_uti_ocupados\"],\n",
        "                                 dados_medico[\"leitos_clinica_medica_ocupados\"],\n",
        "                                 dados_medico[\"leitos_pediatria_ocupados\"],\n",
        "                                 dados_medico[\"leitos_ginecologia_ocupados\"]])\n",
        "\n",
        "plt.figure(figsize=(10, 6))\n",
        "barras = plt.bar(tipos_leito, leitos_ocupados_medico, color=['blue', 'green', 'orange', 'purple'], align='center')\n",
        "\n",
        "# Adicionar rótulos de dados acima de cada barra\n",
        "for barra, valor in zip(barras, leitos_ocupados_medico):\n",
        "    altura_barra = valor + 0.1  # Ajustar a altura do rótulo se necessário\n",
        "    plt.text(barra.get_x() + barra.get_width() / 2, altura_barra, valor, ha='center', va='bottom')\n",
        "\n",
        "plt.xlabel(\"Tipo de Leito\")\n",
        "plt.ylabel(\"Leitos Ocupados\")\n",
        "plt.title(\"Ocupação de Leitos por Tipo (Médicos)\")\n",
        "plt.show()\n"
      ],
      "metadata": {
        "colab": {
          "base_uri": "https://localhost:8080/",
          "height": 453
        },
        "id": "4_eLOiI9kkNk",
        "outputId": "858ad31c-180c-48ce-fecb-335788049c2f"
      },
      "execution_count": null,
      "outputs": [
        {
          "output_type": "display_data",
          "data": {
            "text/plain": [
              "<Figure size 1000x600 with 1 Axes>"
            ],
            "image/png": "[encoded data removed]"
          },
          "metadata": {}
        }
      ]
    },
    {
      "cell_type": "markdown",
      "source": [
        "Criando um chat para o gestor da instituição"
      ],
      "metadata": {
        "id": "RyRXjZ4LhHiq"
      }
    },
    {
      "cell_type": "code",
      "source": [
        "#Criando a variável de chat\n",
        "chat = mcont.start_chat(history=[])"
      ],
      "metadata": {
        "id": "hci8JlMPiLbF"
      },
      "execution_count": null,
      "outputs": []
    },
    {
      "cell_type": "code",
      "source": [
        "#Iniciando um chatbot\n",
        "prompt = input(\"Faça a sua pergunta: \")\n",
        "\n",
        "#Criando as condições de interação\n",
        "while prompt != \"sair\":\n",
        "  response = chat.send_message(prompt)\n",
        "  print(\"Resposta: \", response.text, \"\\n\")\n",
        "  prompt = input(\"Digite a sua pergunta: \")"
      ],
      "metadata": {
        "id": "1-fr4a5ChW3L"
      },
      "execution_count": null,
      "outputs": []
    },
    {
      "cell_type": "code",
      "source": [
        "#Melhorando a visualização\n",
        "def to_markdown(text):\n",
        "  \"\"\"Formata o texto como Markdown.\"\"\"\n",
        "  text = text.replace('•', '  *')\n",
        "  return Markdown(textwrap.indent(text, '> ', predicate=lambda _: True))\n",
        "\n",
        "#Imprimindo o histórico\n",
        "for message in chat.history:\n",
        "  display(to_markdown(f\"**{message.role}:** {message.parts[0].text}\"))\n",
        "  print('------------------------------')"
      ],
      "metadata": {
        "id": "QgXGeJJkhf_Q"
      },
      "execution_count": null,
      "outputs": []
    }
  ]
}